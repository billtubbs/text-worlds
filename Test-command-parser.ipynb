{
 "cells": [
  {
   "cell_type": "markdown",
   "id": "638f4434-613b-4185-b3b9-10eb4efa6da5",
   "metadata": {},
   "source": [
    "# A Command Parser For Interactive Text Games using NLTK"
   ]
  },
  {
   "cell_type": "code",
   "execution_count": 1,
   "id": "c2588679-4eb9-4644-8c16-68e5c29094c7",
   "metadata": {},
   "outputs": [
    {
     "data": {
      "text/plain": [
       "'3.8.1'"
      ]
     },
     "execution_count": 1,
     "metadata": {},
     "output_type": "execute_result"
    }
   ],
   "source": [
    "import nltk\n",
    "from nltk.tokenize import word_tokenize\n",
    "import matplotlib\n",
    "\n",
    "nltk.__version__"
   ]
  },
  {
   "cell_type": "code",
   "execution_count": 2,
   "id": "384a212b-7b06-41eb-a5ce-112ff7458a1e",
   "metadata": {},
   "outputs": [],
   "source": [
    "#nltk.download()"
   ]
  },
  {
   "cell_type": "code",
   "execution_count": 2,
   "id": "39376b23-0607-4100-83d5-1f60314c0bac",
   "metadata": {},
   "outputs": [],
   "source": [
    "sentences = [\n",
    "    \"Go north\",\n",
    "    \"Go into the cave\",\n",
    "    \"Pick up the map\",\n",
    "    \"Open the green door\",\n",
    "    \"Unlock the wooden door with the large rusty key\",\n",
    "    \"Put the map on the table\",\n",
    "    \"Go to sleep\",\n",
    "    \"Lie down on the bed and go to sleep\"\n",
    "]"
   ]
  },
  {
   "cell_type": "code",
   "execution_count": 3,
   "id": "4323ec6a-11da-45be-a79c-3c79ed3faa78",
   "metadata": {},
   "outputs": [
    {
     "name": "stdout",
     "output_type": "stream",
     "text": [
      "['Go', 'north']\n",
      "['Go', 'into', 'the', 'cave']\n",
      "['Pick', 'up', 'the', 'map']\n",
      "['Open', 'the', 'green', 'door']\n",
      "['Unlock', 'the', 'wooden', 'door', 'with', 'the', 'large', 'rusty', 'key']\n",
      "['Put', 'the', 'map', 'on', 'the', 'table']\n",
      "['Go', 'to', 'sleep']\n",
      "['Lie', 'down', 'on', 'the', 'bed', 'and', 'go', 'to', 'sleep']\n"
     ]
    }
   ],
   "source": [
    "for sentence in sentences:\n",
    "    words = word_tokenize(sentence)\n",
    "    print(words)"
   ]
  },
  {
   "cell_type": "markdown",
   "id": "99d7f556-d000-4efb-ac08-bcc18ed32485",
   "metadata": {},
   "source": [
    "## Tagging words using a corpus and chunk parser"
   ]
  },
  {
   "cell_type": "code",
   "execution_count": 281,
   "id": "56031179-10a9-462a-a286-eff2323959fb",
   "metadata": {},
   "outputs": [
    {
     "name": "stdout",
     "output_type": "stream",
     "text": [
      "$: dollar\n",
      "    $ -$ --$ A$ C$ HK$ M$ NZ$ S$ U.S.$ US$\n",
      "'': closing quotation mark\n",
      "    ' ''\n",
      "(: opening parenthesis\n",
      "    ( [ {\n",
      "): closing parenthesis\n",
      "    ) ] }\n",
      ",: comma\n",
      "    ,\n",
      "--: dash\n",
      "    --\n",
      ".: sentence terminator\n",
      "    . ! ?\n",
      ":: colon or ellipsis\n",
      "    : ; ...\n",
      "CC: conjunction, coordinating\n",
      "    & 'n and both but either et for less minus neither nor or plus so\n",
      "    therefore times v. versus vs. whether yet\n",
      "CD: numeral, cardinal\n",
      "    mid-1890 nine-thirty forty-two one-tenth ten million 0.5 one forty-\n",
      "    seven 1987 twenty '79 zero two 78-degrees eighty-four IX '60s .025\n",
      "    fifteen 271,124 dozen quintillion DM2,000 ...\n",
      "DT: determiner\n",
      "    all an another any both del each either every half la many much nary\n",
      "    neither no some such that the them these this those\n",
      "EX: existential there\n",
      "    there\n",
      "FW: foreign word\n",
      "    gemeinschaft hund ich jeux habeas Haementeria Herr K'ang-si vous\n",
      "    lutihaw alai je jour objets salutaris fille quibusdam pas trop Monte\n",
      "    terram fiche oui corporis ...\n",
      "IN: preposition or conjunction, subordinating\n",
      "    astride among uppon whether out inside pro despite on by throughout\n",
      "    below within for towards near behind atop around if like until below\n",
      "    next into if beside ...\n",
      "JJ: adjective or numeral, ordinal\n",
      "    third ill-mannered pre-war regrettable oiled calamitous first separable\n",
      "    ectoplasmic battery-powered participatory fourth still-to-be-named\n",
      "    multilingual multi-disciplinary ...\n",
      "JJR: adjective, comparative\n",
      "    bleaker braver breezier briefer brighter brisker broader bumper busier\n",
      "    calmer cheaper choosier cleaner clearer closer colder commoner costlier\n",
      "    cozier creamier crunchier cuter ...\n",
      "JJS: adjective, superlative\n",
      "    calmest cheapest choicest classiest cleanest clearest closest commonest\n",
      "    corniest costliest crassest creepiest crudest cutest darkest deadliest\n",
      "    dearest deepest densest dinkiest ...\n",
      "LS: list item marker\n",
      "    A A. B B. C C. D E F First G H I J K One SP-44001 SP-44002 SP-44005\n",
      "    SP-44007 Second Third Three Two * a b c d first five four one six three\n",
      "    two\n",
      "MD: modal auxiliary\n",
      "    can cannot could couldn't dare may might must need ought shall should\n",
      "    shouldn't will would\n",
      "NN: noun, common, singular or mass\n",
      "    common-carrier cabbage knuckle-duster Casino afghan shed thermostat\n",
      "    investment slide humour falloff slick wind hyena override subhumanity\n",
      "    machinist ...\n",
      "NNP: noun, proper, singular\n",
      "    Motown Venneboerger Czestochwa Ranzer Conchita Trumplane Christos\n",
      "    Oceanside Escobar Kreisler Sawyer Cougar Yvette Ervin ODI Darryl CTCA\n",
      "    Shannon A.K.C. Meltex Liverpool ...\n",
      "NNPS: noun, proper, plural\n",
      "    Americans Americas Amharas Amityvilles Amusements Anarcho-Syndicalists\n",
      "    Andalusians Andes Andruses Angels Animals Anthony Antilles Antiques\n",
      "    Apache Apaches Apocrypha ...\n",
      "NNS: noun, common, plural\n",
      "    undergraduates scotches bric-a-brac products bodyguards facets coasts\n",
      "    divestitures storehouses designs clubs fragrances averages\n",
      "    subjectivists apprehensions muses factory-jobs ...\n",
      "PDT: pre-determiner\n",
      "    all both half many quite such sure this\n",
      "POS: genitive marker\n",
      "    ' 's\n",
      "PRP: pronoun, personal\n",
      "    hers herself him himself hisself it itself me myself one oneself ours\n",
      "    ourselves ownself self she thee theirs them themselves they thou thy us\n",
      "PRP$: pronoun, possessive\n",
      "    her his mine my our ours their thy your\n",
      "RB: adverb\n",
      "    occasionally unabatingly maddeningly adventurously professedly\n",
      "    stirringly prominently technologically magisterially predominately\n",
      "    swiftly fiscally pitilessly ...\n",
      "RBR: adverb, comparative\n",
      "    further gloomier grander graver greater grimmer harder harsher\n",
      "    healthier heavier higher however larger later leaner lengthier less-\n",
      "    perfectly lesser lonelier longer louder lower more ...\n",
      "RBS: adverb, superlative\n",
      "    best biggest bluntest earliest farthest first furthest hardest\n",
      "    heartiest highest largest least less most nearest second tightest worst\n",
      "RP: particle\n",
      "    aboard about across along apart around aside at away back before behind\n",
      "    by crop down ever fast for forth from go high i.e. in into just later\n",
      "    low more off on open out over per pie raising start teeth that through\n",
      "    under unto up up-pp upon whole with you\n",
      "SYM: symbol\n",
      "    % & ' '' ''. ) ). * + ,. < = > @ A[fj] U.S U.S.S.R * ** ***\n",
      "TO: \"to\" as preposition or infinitive marker\n",
      "    to\n",
      "UH: interjection\n",
      "    Goodbye Goody Gosh Wow Jeepers Jee-sus Hubba Hey Kee-reist Oops amen\n",
      "    huh howdy uh dammit whammo shucks heck anyways whodunnit honey golly\n",
      "    man baby diddle hush sonuvabitch ...\n",
      "VB: verb, base form\n",
      "    ask assemble assess assign assume atone attention avoid bake balkanize\n",
      "    bank begin behold believe bend benefit bevel beware bless boil bomb\n",
      "    boost brace break bring broil brush build ...\n",
      "VBD: verb, past tense\n",
      "    dipped pleaded swiped regummed soaked tidied convened halted registered\n",
      "    cushioned exacted snubbed strode aimed adopted belied figgered\n",
      "    speculated wore appreciated contemplated ...\n",
      "VBG: verb, present participle or gerund\n",
      "    telegraphing stirring focusing angering judging stalling lactating\n",
      "    hankerin' alleging veering capping approaching traveling besieging\n",
      "    encrypting interrupting erasing wincing ...\n",
      "VBN: verb, past participle\n",
      "    multihulled dilapidated aerosolized chaired languished panelized used\n",
      "    experimented flourished imitated reunifed factored condensed sheared\n",
      "    unsettled primed dubbed desired ...\n",
      "VBP: verb, present tense, not 3rd person singular\n",
      "    predominate wrap resort sue twist spill cure lengthen brush terminate\n",
      "    appear tend stray glisten obtain comprise detest tease attract\n",
      "    emphasize mold postpone sever return wag ...\n",
      "VBZ: verb, present tense, 3rd person singular\n",
      "    bases reconstructs marks mixes displeases seals carps weaves snatches\n",
      "    slumps stretches authorizes smolders pictures emerges stockpiles\n",
      "    seduces fizzes uses bolsters slaps speaks pleads ...\n",
      "WDT: WH-determiner\n",
      "    that what whatever which whichever\n",
      "WP: WH-pronoun\n",
      "    that what whatever whatsoever which who whom whosoever\n",
      "WP$: WH-pronoun, possessive\n",
      "    whose\n",
      "WRB: Wh-adverb\n",
      "    how however whence whenever where whereby whereever wherein whereof why\n",
      "``: opening quotation mark\n",
      "    ` ``\n"
     ]
    }
   ],
   "source": [
    "nltk.help.upenn_tagset()"
   ]
  },
  {
   "cell_type": "code",
   "execution_count": 23,
   "id": "b1f48556-c319-4548-87c0-b22387b0a2de",
   "metadata": {},
   "outputs": [
    {
     "name": "stdout",
     "output_type": "stream",
     "text": [
      "[('Eat', 'NNP'), ('the', 'DT'), ('breadroll', 'NN')]\n"
     ]
    }
   ],
   "source": [
    "# Problem: imperative sentences are not handled well\n",
    "sentence = \"Eat the breadroll\"\n",
    "words = word_tokenize(sentence)\n",
    "pos_tags = nltk.pos_tag(words)\n",
    "print(pos_tags)"
   ]
  },
  {
   "cell_type": "code",
   "execution_count": 24,
   "id": "0560f0cb-9f8a-4473-b261-ebf53486f40a",
   "metadata": {},
   "outputs": [
    {
     "name": "stdout",
     "output_type": "stream",
     "text": [
      "[('eat', 'VB'), ('the', 'DT'), ('breadroll', 'NN')]\n"
     ]
    }
   ],
   "source": [
    "sentence = \"eat the breadroll\"\n",
    "words = word_tokenize(sentence)\n",
    "pos_tags = nltk.pos_tag(words)\n",
    "print(pos_tags)"
   ]
  },
  {
   "cell_type": "code",
   "execution_count": 28,
   "id": "bd377965-3468-4259-bfbb-0a864e3d9d7f",
   "metadata": {},
   "outputs": [
    {
     "name": "stdout",
     "output_type": "stream",
     "text": [
      "[('You', 'PRP'), ('eat', 'VBP'), ('the', 'DT'), ('breadroll', 'NN')]\n"
     ]
    }
   ],
   "source": [
    "# Problem: imperative sentences are not handled well\n",
    "sentence = \"You eat the breadroll\"\n",
    "words = word_tokenize(sentence)\n",
    "pos_tags = nltk.pos_tag(words)\n",
    "print(pos_tags)"
   ]
  },
  {
   "cell_type": "code",
   "execution_count": 29,
   "id": "f9a9e8e6-ca3f-49b8-a26f-5d7fd96c4464",
   "metadata": {},
   "outputs": [
    {
     "name": "stdout",
     "output_type": "stream",
     "text": [
      "[('You', 'PRP'), ('eat', 'VBP'), ('the', 'DT'), ('breadroll', 'NN'), ('!', '.')]\n"
     ]
    }
   ],
   "source": [
    "# Problem: imperative sentences are not handled well\n",
    "sentence = \"You eat the breadroll!\"\n",
    "words = word_tokenize(sentence)\n",
    "pos_tags = nltk.pos_tag(words)\n",
    "print(pos_tags)"
   ]
  },
  {
   "cell_type": "code",
   "execution_count": 77,
   "id": "b328e1eb-a5f1-47c4-81c7-22579af5a3e4",
   "metadata": {},
   "outputs": [
    {
     "name": "stdout",
     "output_type": "stream",
     "text": [
      "(S go/VBP north/JJ)\n",
      "(S go/VBP into/IN (NP the/DT cave/NN))\n",
      "(S pick/VBP up/RP (NP the/DT map/NN))\n",
      "(S open/VBP (NP the/DT green/JJ door/NN))\n",
      "(S\n",
      "  unlock/VBP\n",
      "  (NP the/DT wooden/JJ door/NN)\n",
      "  with/IN\n",
      "  (NP the/DT large/JJ rusty/NN)\n",
      "  (NP key/NN))\n",
      "(S put/VBP (NP the/DT map/NN) on/IN (NP the/DT table/NN))\n",
      "(S go/VBP to/TO sleep/VB)\n",
      "(S\n",
      "  lie/VBP\n",
      "  down/RP\n",
      "  on/IN\n",
      "  (NP the/DT bed/NN)\n",
      "  and/CC\n",
      "  go/VB\n",
      "  to/TO\n",
      "  sleep/VB)\n"
     ]
    }
   ],
   "source": [
    "def get_pos_tags(sentence):\n",
    "    words = word_tokenize(sentence)\n",
    "    mod_words = ['You', words[0].lower()] + words[1:]\n",
    "    pos_tags = nltk.pos_tag(mod_words)\n",
    "    return pos_tags[1:]\n",
    "\n",
    "grammar = \"NP: {<DT>?<JJ>*<NN>}\"\n",
    "grammar = r\"NP: {<DT|PP\\$>?<JJ>*<NN>}\"\n",
    "chunk_parser = nltk.RegexpParser(grammar)\n",
    "for sentence in sentences:\n",
    "    tree = chunk_parser.parse(get_pos_tags(sentence))\n",
    "    print(tree)"
   ]
  },
  {
   "cell_type": "markdown",
   "id": "8fc21e0f-0e47-4ff1-b94c-10eff8ecff34",
   "metadata": {},
   "source": [
    "## Constructing a tree"
   ]
  },
  {
   "cell_type": "code",
   "execution_count": 37,
   "id": "5e06d4b2-d9e6-4a79-8786-a71052208a3d",
   "metadata": {},
   "outputs": [
    {
     "name": "stdout",
     "output_type": "stream",
     "text": [
      "(NP the bright green envelope)\n"
     ]
    }
   ],
   "source": [
    "np1 = nltk.Tree('NP', ['the', 'bright', 'green', 'envelope'])\n",
    "print(np1)"
   ]
  },
  {
   "cell_type": "code",
   "execution_count": 38,
   "id": "1217f31f-8d71-436a-abd1-f01c0beab1e1",
   "metadata": {},
   "outputs": [
    {
     "name": "stdout",
     "output_type": "stream",
     "text": [
      "(VP pick up)\n"
     ]
    }
   ],
   "source": [
    "vp1 = nltk.Tree('VP', ['pick', 'up'])\n",
    "print(vp1)"
   ]
  },
  {
   "cell_type": "code",
   "execution_count": 39,
   "id": "4c64284a-26ef-4a24-9275-33128deede4e",
   "metadata": {},
   "outputs": [
    {
     "name": "stdout",
     "output_type": "stream",
     "text": [
      "(PRP You)\n"
     ]
    }
   ],
   "source": [
    "p1 = nltk.Tree('PRP', ['You'])\n",
    "print(p1)"
   ]
  },
  {
   "cell_type": "code",
   "execution_count": 45,
   "id": "7c6ae0d7-5d05-4eaa-9420-9ecea1fb6e99",
   "metadata": {},
   "outputs": [
    {
     "name": "stdout",
     "output_type": "stream",
     "text": [
      "(S (PRP You) (VP pick up) (NP the bright green envelope))\n"
     ]
    }
   ],
   "source": [
    "# Combining them\n",
    "tree = nltk.Tree('S', [p1, vp1, np1])\n",
    "print(tree)"
   ]
  },
  {
   "cell_type": "code",
   "execution_count": 46,
   "id": "649ea877-1f6d-4f0f-864d-027deb75bbe0",
   "metadata": {},
   "outputs": [
    {
     "name": "stdout",
     "output_type": "stream",
     "text": [
      "( S ( PRP You ) ( VP pick up ) ( NP the bright green envelope ) ) "
     ]
    }
   ],
   "source": [
    "def traverse(t):\n",
    "    try:\n",
    "        t.label()\n",
    "    except AttributeError:\n",
    "        print(t, end=\" \")\n",
    "    else:\n",
    "        # Now we know that t.node is defined\n",
    "        print('(', t.label(), end=\" \")\n",
    "        for child in t:\n",
    "            traverse(child)\n",
    "        print(')', end=\" \")\n",
    "\n",
    "traverse(tree)"
   ]
  },
  {
   "cell_type": "code",
   "execution_count": 20,
   "id": "76911cc8-932c-42cd-84cc-cbc30ad316ba",
   "metadata": {},
   "outputs": [
    {
     "name": "stderr",
     "output_type": "stream",
     "text": [
      "[nltk_data] Downloading package maxent_ne_chunker to\n",
      "[nltk_data]     /Users/billtubbs/nltk_data...\n",
      "[nltk_data]   Package maxent_ne_chunker is already up-to-date!\n"
     ]
    },
    {
     "data": {
      "text/plain": [
       "True"
      ]
     },
     "execution_count": 20,
     "metadata": {},
     "output_type": "execute_result"
    }
   ],
   "source": [
    "#nltk.download('maxent_ne_chunker')"
   ]
  },
  {
   "cell_type": "code",
   "execution_count": 23,
   "id": "f1cc5cc2-9989-4fdc-a5ec-b6439f7dec38",
   "metadata": {},
   "outputs": [
    {
     "name": "stderr",
     "output_type": "stream",
     "text": [
      "[nltk_data] Downloading package words to /Users/billtubbs/nltk_data...\n",
      "[nltk_data]   Unzipping corpora/words.zip.\n"
     ]
    },
    {
     "data": {
      "text/plain": [
       "True"
      ]
     },
     "execution_count": 23,
     "metadata": {},
     "output_type": "execute_result"
    }
   ],
   "source": [
    "#nltk.download('words')"
   ]
  },
  {
   "cell_type": "code",
   "execution_count": 47,
   "id": "ab85317b-fe0d-4465-ba6f-157b9c6a2f07",
   "metadata": {},
   "outputs": [
    {
     "name": "stdout",
     "output_type": "stream",
     "text": [
      "(S you/PRP pick/VBP up/RP the/DT bright/JJ green/JJ envelope/NN)\n"
     ]
    }
   ],
   "source": [
    "sentence = \"you pick up the bright green envelope\"\n",
    "words = word_tokenize(sentence)\n",
    "tags = nltk.pos_tag(words)\n",
    "tree = nltk.ne_chunk(tags, binary=True)\n",
    "print(tree)"
   ]
  },
  {
   "cell_type": "code",
   "execution_count": 43,
   "id": "1ac2f536-f625-4653-9a41-eac9096fab61",
   "metadata": {},
   "outputs": [
    {
     "name": "stdout",
     "output_type": "stream",
     "text": [
      "( S ('you', 'PRP') ('pick', 'VBP') ('up', 'RP') ('the', 'DT') ('bright', 'JJ') ('green', 'JJ') ('envelope', 'NN') ) "
     ]
    }
   ],
   "source": [
    "traverse(tree)"
   ]
  },
  {
   "cell_type": "code",
   "execution_count": 31,
   "id": "3b075805-21ef-48e8-b391-a292a43066c5",
   "metadata": {},
   "outputs": [
    {
     "name": "stdout",
     "output_type": "stream",
     "text": [
      "Help on package nltk.parse in nltk:\n",
      "\n",
      "NAME\n",
      "    nltk.parse - NLTK Parsers\n",
      "\n",
      "DESCRIPTION\n",
      "    Classes and interfaces for producing tree structures that represent\n",
      "    the internal organization of a text.  This task is known as \"parsing\"\n",
      "    the text, and the resulting tree structures are called the text's\n",
      "    \"parses\".  Typically, the text is a single sentence, and the tree\n",
      "    structure represents the syntactic structure of the sentence.\n",
      "    However, parsers can also be used in other domains.  For example,\n",
      "    parsers can be used to derive the morphological structure of the\n",
      "    morphemes that make up a word, or to derive the discourse structure\n",
      "    for a set of utterances.\n",
      "    \n",
      "    Sometimes, a single piece of text can be represented by more than one\n",
      "    tree structure.  Texts represented by more than one tree structure are\n",
      "    called \"ambiguous\" texts.  Note that there are actually two ways in\n",
      "    which a text can be ambiguous:\n",
      "    \n",
      "        - The text has multiple correct parses.\n",
      "        - There is not enough information to decide which of several\n",
      "          candidate parses is correct.\n",
      "    \n",
      "    However, the parser module does *not* distinguish these two types of\n",
      "    ambiguity.\n",
      "    \n",
      "    The parser module defines ``ParserI``, a standard interface for parsing\n",
      "    texts; and two simple implementations of that interface,\n",
      "    ``ShiftReduceParser`` and ``RecursiveDescentParser``.  It also contains\n",
      "    three sub-modules for specialized kinds of parsing:\n",
      "    \n",
      "      - ``nltk.parser.chart`` defines chart parsing, which uses dynamic\n",
      "        programming to efficiently parse texts.\n",
      "      - ``nltk.parser.probabilistic`` defines probabilistic parsing, which\n",
      "        associates a probability with each parse.\n",
      "\n",
      "PACKAGE CONTENTS\n",
      "    api\n",
      "    bllip\n",
      "    chart\n",
      "    corenlp\n",
      "    dependencygraph\n",
      "    earleychart\n",
      "    evaluate\n",
      "    featurechart\n",
      "    generate\n",
      "    malt\n",
      "    nonprojectivedependencyparser\n",
      "    pchart\n",
      "    projectivedependencyparser\n",
      "    recursivedescent\n",
      "    shiftreduce\n",
      "    stanford\n",
      "    transitionparser\n",
      "    util\n",
      "    viterbi\n",
      "\n",
      "FILE\n",
      "    /Users/billtubbs/opt/anaconda3/envs/nltk/lib/python3.11/site-packages/nltk/parse/__init__.py\n",
      "\n",
      "\n"
     ]
    }
   ],
   "source": [
    "help(nltk.parse)"
   ]
  },
  {
   "cell_type": "code",
   "execution_count": 34,
   "id": "3c06b9ed-873d-4212-bb99-37b53bdd9b5f",
   "metadata": {},
   "outputs": [],
   "source": [
    "treebank_string = \"\"\"(S (NP-SBJ (NP (QP (IN at) (JJS least) (CD nine) (NNS tenths)) ) (PP (IN of) (NP (DT the) (NNS students) ))) (VP (VBD passed)))\"\"\""
   ]
  },
  {
   "cell_type": "code",
   "execution_count": 35,
   "id": "a6e395a9-d367-4814-b6eb-b0c575abfcfc",
   "metadata": {},
   "outputs": [
    {
     "data": {
      "text/plain": [
       "'(S (NP-SBJ (NP (QP (IN at) (JJS least) (CD nine) (NNS tenths)) ) (PP (IN of) (NP (DT the) (NNS students) ))) (VP (VBD passed)))'"
      ]
     },
     "execution_count": 35,
     "metadata": {},
     "output_type": "execute_result"
    }
   ],
   "source": [
    "treebank_string"
   ]
  },
  {
   "cell_type": "code",
   "execution_count": 38,
   "id": "c79a6d24-7872-4995-a666-9a1ac15c37ac",
   "metadata": {},
   "outputs": [
    {
     "name": "stdout",
     "output_type": "stream",
     "text": [
      "(S\n",
      "  (NP-SBJ\n",
      "    (NP (QP (IN at) (JJS least) (CD nine) (NNS tenths)))\n",
      "    (PP (IN of) (NP (DT the) (NNS students))))\n",
      "  (VP (VBD passed)))\n"
     ]
    }
   ],
   "source": [
    "t = nltk.Tree.fromstring(treebank_string)\n",
    "print(t)"
   ]
  },
  {
   "cell_type": "markdown",
   "id": "8c852645-aa4d-4d56-8b55-2caa61670cd0",
   "metadata": {},
   "source": [
    "## Parsing using a grammar definition"
   ]
  },
  {
   "cell_type": "code",
   "execution_count": 342,
   "id": "e9082ff1-e6eb-4411-8548-34f0d980d357",
   "metadata": {},
   "outputs": [
    {
     "name": "stdout",
     "output_type": "stream",
     "text": [
      "(S\n",
      "  (NP I)\n",
      "  (VP\n",
      "    (VP (V shot) (NP (Det an) (N elephant)))\n",
      "    (PP (P in) (NP (Det my) (N pajamas)))))\n",
      "(S\n",
      "  (NP I)\n",
      "  (VP\n",
      "    (V shot)\n",
      "    (NP (Det an) (N elephant) (PP (P in) (NP (Det my) (N pajamas))))))\n"
     ]
    }
   ],
   "source": [
    "groucho_grammar = nltk.CFG.fromstring(\"\"\"\n",
    "S -> NP VP\n",
    "PP -> P NP\n",
    "NP -> Det N | Det N PP | 'I'\n",
    "VP -> V NP | VP PP\n",
    "Det -> 'an' | 'my'\n",
    "N -> 'elephant' | 'pajamas'\n",
    "V -> 'shot'\n",
    "P -> 'in'\n",
    "\"\"\")\n",
    "\n",
    "sent = ['I', 'shot', 'an', 'elephant', 'in', 'my', 'pajamas']\n",
    "\n",
    "parser = nltk.ChartParser(groucho_grammar)\n",
    "\n",
    "for tree in parser.parse(sent):\n",
    "    print(tree)"
   ]
  },
  {
   "cell_type": "code",
   "execution_count": 343,
   "id": "73d0fd06-10e6-47ab-b6b6-36764b7ec638",
   "metadata": {},
   "outputs": [],
   "source": [
    "sentence = 'the little yellow dog barked at the black cat'\n",
    "words = word_tokenize(sentence)\n",
    "pos_tags = nltk.pos_tag(words)\n",
    "assert pos_tags == [\n",
    "    (\"the\", \"DT\"), (\"little\", \"JJ\"), (\"yellow\", \"JJ\"),\n",
    "    (\"dog\", \"NN\"), (\"barked\", \"VBD\"), (\"at\", \"IN\"),  \n",
    "    (\"the\", \"DT\"), (\"black\", \"JJ\"), (\"cat\", \"NN\")\n",
    "]"
   ]
  },
  {
   "cell_type": "code",
   "execution_count": 344,
   "id": "7664908a-7b2c-4751-b07f-f980c5a5943d",
   "metadata": {},
   "outputs": [
    {
     "name": "stdout",
     "output_type": "stream",
     "text": [
      "(S\n",
      "  (NP the/DT little/JJ yellow/JJ dog/NN)\n",
      "  barked/VBD\n",
      "  at/IN\n",
      "  (NP the/DT black/JJ cat/NN))\n"
     ]
    }
   ],
   "source": [
    "# Example from docs\n",
    "#  - https://www.nltk.org/book_1ed/ch07.html\n",
    "grammar = \"NP: {<DT>?<JJ>*<NN>}\"\n",
    "chunk_parser = nltk.RegexpParser(grammar)\n",
    "tree = chunk_parser.parse(pos_tags)\n",
    "print(tree)"
   ]
  },
  {
   "cell_type": "code",
   "execution_count": 345,
   "id": "414ed5c7-3cc7-4683-951d-8898e8b183e6",
   "metadata": {},
   "outputs": [
    {
     "name": "stdout",
     "output_type": "stream",
     "text": [
      "(S (NP door/NN))\n",
      "(S (NP wooden/JJ door/NN))\n",
      "(S (NP the/DT door/NN))\n",
      "(S (NP the/DT wooden/JJ door/NN))\n",
      "(S (NP the/DT heavy/JJ wooden/JJ door/NN))\n"
     ]
    }
   ],
   "source": [
    "def get_pos_tags(sentence):\n",
    "    words = word_tokenize(sentence)\n",
    "    pos_tags = nltk.pos_tag(words)\n",
    "    return pos_tags\n",
    "\n",
    "sentences = [\n",
    "    \"door\",\n",
    "    \"wooden door\",\n",
    "    \"the door\",\n",
    "    \"the wooden door\",\n",
    "    \"the heavy wooden door\"\n",
    "]\n",
    "\n",
    "grammar = \"NP: {<DT>?<JJ>*<NN>}\"\n",
    "chunk_parser = nltk.RegexpParser(grammar)\n",
    "\n",
    "for sentence in sentences:\n",
    "    tree = chunk_parser.parse(get_pos_tags(sentence))\n",
    "    print(tree)"
   ]
  },
  {
   "cell_type": "code",
   "execution_count": 346,
   "id": "912c7607-aee4-41fb-bce9-8a85bc02d874",
   "metadata": {},
   "outputs": [
    {
     "name": "stdout",
     "output_type": "stream",
     "text": [
      "(S open/JJ door/NN)\n",
      "(S you/PRP open/VBP door/VB)\n",
      "(S you/PRP open/VBP the/DT door/NN)\n",
      "(S close/JJ door/NN)\n",
      "(S you/PRP close/VBP door/JJ)\n",
      "(S you/PRP close/VBP the/DT door/NN)\n",
      "(S you/PRP open/VBP wooden/JJ door/NN)\n",
      "(S you/PRP open/VBP the/DT wooden/JJ door/NN)\n",
      "(S you/PRP open/VBP the/DT heavy/JJ wooden/JJ door/NN)\n",
      "(S you/PRP close/VBP the/DT open/JJ door/NN)\n"
     ]
    }
   ],
   "source": [
    "sentences = [\n",
    "    \"open door\",\n",
    "    \"you open door\",\n",
    "    \"you open the door\",\n",
    "    \"close door\",\n",
    "    \"you close door\",\n",
    "    \"you close the door\",\n",
    "    \"you open wooden door\",\n",
    "    \"you open the wooden door\",\n",
    "    \"you open the heavy wooden door\",\n",
    "    \"you close the open door\"\n",
    "]\n",
    "\n",
    "grammar = \"\"\"\n",
    "S: {<VBP><NP>}\n",
    "NP: {<DT>?<JJ>*<NP>}\n",
    "\"\"\"\n",
    "# PP: {<IN>+<NP>}\n",
    "\n",
    "chunk_parser = nltk.RegexpParser(grammar)\n",
    "\n",
    "for sentence in sentences:\n",
    "    words = word_tokenize(sentence)\n",
    "    tree = chunk_parser.parse(get_pos_tags(sentence))\n",
    "    print(tree)"
   ]
  },
  {
   "cell_type": "code",
   "execution_count": 347,
   "id": "5bf34d19-9d59-4d92-8efa-db7602062d51",
   "metadata": {},
   "outputs": [
    {
     "name": "stdout",
     "output_type": "stream",
     "text": [
      "\"open door\":\n",
      "(VP (V open) (NP (N door)))\n",
      "\n",
      "\"open the door\":\n",
      "(VP (V open) (NP (Det the) (N door)))\n",
      "\n",
      "\"close door\":\n",
      "(VP (V close) (NP (N door)))\n",
      "\n",
      "\"close the door\":\n",
      "(VP (V close) (NP (Det the) (N door)))\n",
      "\n",
      "\"open wooden door\":\n",
      "(VP (V open) (NP (Nom (J wooden) (N door))))\n",
      "\n",
      "\"open the wooden door\":\n",
      "(VP (V open) (NP (Det the) (Nom (J wooden) (N door))))\n",
      "\n",
      "\"open the heavy wooden door\":\n",
      "(VP\n",
      "  (V open)\n",
      "  (NP (Det the) (Nom (J heavy) (Nom (J wooden) (N door)))))\n",
      "\n",
      "\"close the open door\":\n",
      "(VP (V close) (NP (Det the) (Nom (J open) (N door))))\n",
      "\n",
      "\"open the heavy wooden door\":\n",
      "(VP\n",
      "  (V open)\n",
      "  (NP (Det the) (Nom (J heavy) (Nom (J wooden) (N door)))))\n",
      "\n",
      "\"unlock the door\":\n",
      "(VP (V unlock) (NP (Det the) (N door)))\n",
      "\n",
      "\"unlock the door with the key\":\n",
      "(VP\n",
      "  (V unlock)\n",
      "  (NP (Det the) (N door))\n",
      "  (PP (P with) (NP (Det the) (N key))))\n",
      "(VP\n",
      "  (V unlock)\n",
      "  (NP (NP (Det the) (N door)) (PP (P with) (NP (Det the) (N key)))))\n",
      "\n",
      "\"unlock the wooden door with the big key\":\n",
      "(VP\n",
      "  (V unlock)\n",
      "  (NP (Det the) (Nom (J wooden) (N door)))\n",
      "  (PP (P with) (NP (Det the) (Nom (J big) (N key)))))\n",
      "(VP\n",
      "  (V unlock)\n",
      "  (NP\n",
      "    (NP (Det the) (Nom (J wooden) (N door)))\n",
      "    (PP (P with) (NP (Det the) (Nom (J big) (N key))))))\n",
      "\n",
      "\"unlock the wooden door with the round window\":\n",
      "(VP\n",
      "  (V unlock)\n",
      "  (NP (Det the) (Nom (J wooden) (N door)))\n",
      "  (PP (P with) (NP (Det the) (Nom (J round) (N window)))))\n",
      "(VP\n",
      "  (V unlock)\n",
      "  (NP\n",
      "    (NP (Det the) (Nom (J wooden) (N door)))\n",
      "    (PP (P with) (NP (Det the) (Nom (J round) (N window))))))\n",
      "\n"
     ]
    }
   ],
   "source": [
    "#  Syntactic Categories\n",
    "#  \n",
    "#  Symbol  Meaning               Example\n",
    "#\n",
    "#  S       sentence              the man walked\n",
    "#  NP      noun phrase           a dog\n",
    "#  VP      verb phrase           saw a park\n",
    "#  PP      prepositional phrase  with a telescope\n",
    "#  Det     determiner            the\n",
    "#  N       noun                  dog\n",
    "#  V       verb                  walked\n",
    "#  P       preposition           in\n",
    "\n",
    "#  noun phrases (NP)\n",
    "#  verb phrases (VP)\n",
    "#  prepositional phrases (PP)\n",
    "#  nominals (Nom)\n",
    "\n",
    "grammar = nltk.CFG.fromstring(\"\"\"\n",
    "VP -> V NP | V PP | V NP PP\n",
    "NP -> N | Nom | Det N | Det Nom | NP PP\n",
    "Nom -> J N | J Nom\n",
    "PP -> P NP\n",
    "Det -> 'the' | 'a' | 'an'\n",
    "N -> 'bed' | 'door' | 'key' | 'handle' | 'box' | 'window'\n",
    "V -> 'sit' | 'open' | 'close' | 'unlock' | 'go'\n",
    "P -> 'on' | 'in' | 'with' | 'to'\n",
    "J -> 'small' | 'big' | 'wooden' | 'heavy' | 'open' | 'closed' | 'round'\n",
    "\"\"\")\n",
    "\n",
    "sentences = [\n",
    "    \"open door\",\n",
    "    \"open the door\",\n",
    "    \"close door\",\n",
    "    \"close the door\",\n",
    "    \"open wooden door\",\n",
    "    \"open the wooden door\",\n",
    "    \"open the heavy wooden door\",\n",
    "    \"close the open door\",\n",
    "    \"open the heavy wooden door\",\n",
    "    \"unlock the door\",\n",
    "    \"unlock the door with the key\",\n",
    "    \"unlock the wooden door with the big key\",\n",
    "    \"unlock the wooden door with the round window\"\n",
    "]\n",
    "\n",
    "parser = nltk.ChartParser(grammar)\n",
    "\n",
    "for sentence in sentences:\n",
    "    print(f'\"{sentence}\":')\n",
    "    words = word_tokenize(sentence)\n",
    "    #words = ['sit', 'on', 'the', 'big', 'wooden', 'bed']\n",
    "    for tree in parser.parse(words):\n",
    "        print(tree)\n",
    "    print()"
   ]
  },
  {
   "cell_type": "code",
   "execution_count": 357,
   "id": "c48265ed-f380-478b-b333-1eac1f59cf84",
   "metadata": {},
   "outputs": [
    {
     "data": {
      "text/plain": [
       "\"N -> 'a' | 'b' | 'c'\""
      ]
     },
     "execution_count": 357,
     "metadata": {},
     "output_type": "execute_result"
    }
   ],
   "source": [
    "nouns = ['a', 'b', 'c']\n"
   ]
  },
  {
   "cell_type": "code",
   "execution_count": 348,
   "id": "bf166a43-0b87-41e6-8dc4-65ba0cbc2a0b",
   "metadata": {},
   "outputs": [
    {
     "name": "stdout",
     "output_type": "stream",
     "text": [
      "      VP     \n",
      "  ____|___    \n",
      " |        NP \n",
      " |        |   \n",
      " V        N  \n",
      " |        |   \n",
      "open     door\n",
      "\n",
      "      VP         \n",
      "  ____|___        \n",
      " |        NP     \n",
      " |     ___|___    \n",
      " V   Det      N  \n",
      " |    |       |   \n",
      "open the     door\n",
      "\n",
      "       VP     \n",
      "   ____|___    \n",
      "  |        NP \n",
      "  |        |   \n",
      "  V        N  \n",
      "  |        |   \n",
      "close     door\n",
      "\n",
      "       VP         \n",
      "   ____|___        \n",
      "  |        NP     \n",
      "  |     ___|___    \n",
      "  V   Det      N  \n",
      "  |    |       |   \n",
      "close the     door\n",
      "\n",
      "       VP           \n",
      "  _____|_____        \n",
      " |           NP     \n",
      " |           |       \n",
      " |          Nom     \n",
      " |      _____|___    \n",
      " V     J         N  \n",
      " |     |         |   \n",
      "open wooden     door\n",
      "\n",
      "          VP                \n",
      "  ________|____              \n",
      " |             NP           \n",
      " |     ________|_____        \n",
      " |    |             Nom     \n",
      " |    |         _____|___    \n",
      " V   Det       J         N  \n",
      " |    |        |         |   \n",
      "open the     wooden     door\n",
      "\n",
      "           VP                     \n",
      "  _________|____                   \n",
      " |              NP                \n",
      " |     _________|____              \n",
      " |    |             Nom           \n",
      " |    |     _________|_____        \n",
      " |    |    |              Nom     \n",
      " |    |    |          _____|___    \n",
      " V   Det   J         J         N  \n",
      " |    |    |         |         |   \n",
      "open the heavy     wooden     door\n",
      "\n",
      "           VP              \n",
      "   ________|___             \n",
      "  |            NP          \n",
      "  |     _______|____        \n",
      "  |    |           Nom     \n",
      "  |    |        ____|___    \n",
      "  V   Det      J        N  \n",
      "  |    |       |        |   \n",
      "close the     open     door\n",
      "\n",
      "           VP                     \n",
      "  _________|____                   \n",
      " |              NP                \n",
      " |     _________|____              \n",
      " |    |             Nom           \n",
      " |    |     _________|_____        \n",
      " |    |    |              Nom     \n",
      " |    |    |          _____|___    \n",
      " V   Det   J         J         N  \n",
      " |    |    |         |         |   \n",
      "open the heavy     wooden     door\n",
      "\n",
      "        VP         \n",
      "   _____|___        \n",
      "  |         NP     \n",
      "  |      ___|___    \n",
      "  V    Det      N  \n",
      "  |     |       |   \n",
      "unlock the     door\n",
      "\n",
      "                VP                  \n",
      "   _____________|_________           \n",
      "  |         |             PP        \n",
      "  |         |         ____|___       \n",
      "  |         NP       |        NP    \n",
      "  |      ___|___     |     ___|___   \n",
      "  V    Det      N    P   Det      N \n",
      "  |     |       |    |    |       |  \n",
      "unlock the     door with the     key\n",
      "\n",
      "                VP                  \n",
      "   _____________|____                \n",
      "  |                  NP             \n",
      "  |          ________|____           \n",
      "  |         |             PP        \n",
      "  |         |         ____|___       \n",
      "  |         NP       |        NP    \n",
      "  |      ___|___     |     ___|___   \n",
      "  V    Det      N    P   Det      N \n",
      "  |     |       |    |    |       |  \n",
      "unlock the     door with the     key\n",
      "\n",
      "                       VP                          \n",
      "   ____________________|_____________               \n",
      "  |          |                       PP            \n",
      "  |          |               ________|___           \n",
      "  |          NP             |            NP        \n",
      "  |      ____|_____         |     _______|___       \n",
      "  |     |         Nom       |    |          Nom    \n",
      "  |     |     _____|___     |    |        ___|___   \n",
      "  V    Det   J         N    P   Det      J       N \n",
      "  |     |    |         |    |    |       |       |  \n",
      "unlock the wooden     door with the     big     key\n",
      "\n",
      "                       VP                          \n",
      "   ____________________|____                        \n",
      "  |                         NP                     \n",
      "  |           ______________|________               \n",
      "  |          |                       PP            \n",
      "  |          |               ________|___           \n",
      "  |          NP             |            NP        \n",
      "  |      ____|_____         |     _______|___       \n",
      "  |     |         Nom       |    |          Nom    \n",
      "  |     |     _____|___     |    |        ___|___   \n",
      "  V    Det   J         N    P   Det      J       N \n",
      "  |     |    |         |    |    |       |       |  \n",
      "unlock the wooden     door with the     big     key\n",
      "\n",
      "                       VP                               \n",
      "   ____________________|_____________                    \n",
      "  |          |                       PP                 \n",
      "  |          |               ________|____               \n",
      "  |          NP             |             NP            \n",
      "  |      ____|_____         |     ________|____          \n",
      "  |     |         Nom       |    |            Nom       \n",
      "  |     |     _____|___     |    |         ____|____     \n",
      "  V    Det   J         N    P   Det       J         N   \n",
      "  |     |    |         |    |    |        |         |    \n",
      "unlock the wooden     door with the     round     window\n",
      "\n",
      "                       VP                               \n",
      "   ____________________|____                             \n",
      "  |                         NP                          \n",
      "  |           ______________|________                    \n",
      "  |          |                       PP                 \n",
      "  |          |               ________|____               \n",
      "  |          NP             |             NP            \n",
      "  |      ____|_____         |     ________|____          \n",
      "  |     |         Nom       |    |            Nom       \n",
      "  |     |     _____|___     |    |         ____|____     \n",
      "  V    Det   J         N    P   Det       J         N   \n",
      "  |     |    |         |    |    |        |         |    \n",
      "unlock the wooden     door with the     round     window\n",
      "\n"
     ]
    }
   ],
   "source": [
    "for sentence in sentences:\n",
    "    words = word_tokenize(sentence)\n",
    "    for tree in parser.parse(words):\n",
    "        tree.pretty_print()"
   ]
  },
  {
   "cell_type": "code",
   "execution_count": 202,
   "id": "a6571f52-96c7-4595-a7fb-78215266fd46",
   "metadata": {},
   "outputs": [
    {
     "name": "stdout",
     "output_type": "stream",
     "text": [
      "                             S                                      \n",
      "    _________________________|_______________________                \n",
      "   |               |                                 PP             \n",
      "   |               |                           ______|_____          \n",
      "   |               NP                         |            NP       \n",
      "   |        _______|__________________        |       _____|____     \n",
      "open/VBP the/DT heavy/JJ wooden/JJ door/NN with/IN the/DT     key/NN\n",
      "\n"
     ]
    }
   ],
   "source": [
    "grammar = \"\"\"\n",
    "S: {<>}\n",
    "NP: {<DT>?<JJ>*<NN>}\n",
    "PP: {<IN>+<NP>}\n",
    "\"\"\"\n",
    "chunk_parser = nltk.RegexpParser(grammar)\n",
    "tree = chunk_parser.parse(pos_tags)\n",
    "\n",
    "sentences = [\n",
    "    #\"open the heavy wooden door with key\"\n",
    "    \"open the heavy wooden door with the key\"\n",
    "    #\"open the heavy wooden door with the big key\"\n",
    "]\n",
    "for sentence in sentences:\n",
    "    tree = chunk_parser.parse(get_pos_tags(sentence))\n",
    "    #print(tree)\n",
    "    tree.pretty_print()"
   ]
  },
  {
   "cell_type": "code",
   "execution_count": 168,
   "id": "af1cf7a4-0425-458b-b938-bbf70ac6d38a",
   "metadata": {},
   "outputs": [
    {
     "name": "stdout",
     "output_type": "stream",
     "text": [
      "           S                              \n",
      "    _______|_______                        \n",
      "   |               NP                     \n",
      "   |        _______|__________________     \n",
      "open/VBP the/DT heavy/JJ wooden/JJ door/NN\n",
      "\n"
     ]
    }
   ],
   "source": [
    "tree.pretty_print()"
   ]
  },
  {
   "cell_type": "code",
   "execution_count": null,
   "id": "46e0ac1d-4f2f-48fc-b91d-50e0d25a2c73",
   "metadata": {},
   "outputs": [],
   "source": []
  },
  {
   "cell_type": "markdown",
   "id": "3c55e4cf-f92f-441d-bcc6-0d1ec7f30acf",
   "metadata": {},
   "source": [
    "## Traversing the resulting tree"
   ]
  },
  {
   "cell_type": "code",
   "execution_count": 181,
   "id": "f1996769-bf13-49f9-993c-4e87a0484937",
   "metadata": {},
   "outputs": [
    {
     "name": "stdout",
     "output_type": "stream",
     "text": [
      "( S\n",
      "  ('open', 'VBP')\n",
      "  ( NP\n",
      "    ('the', 'DT')\n",
      "    ('heavy', 'JJ')\n",
      "    ('wooden', 'JJ')\n",
      "    ('door', 'NN')\n",
      "  )\n",
      ")\n"
     ]
    }
   ],
   "source": [
    "def traverse(t, indent=\"\"):\n",
    "    try:\n",
    "        t.label()\n",
    "    except AttributeError:\n",
    "        print(indent + str(t))\n",
    "    else:\n",
    "        # Now we know that t.label is defined\n",
    "        print(indent + '(', t.label())\n",
    "        for child in t:\n",
    "            traverse(child, indent=indent + '  ')\n",
    "        print(indent + ')')\n",
    "\n",
    "traverse(tree)"
   ]
  },
  {
   "cell_type": "code",
   "execution_count": 182,
   "id": "7f2c5eec-deec-46af-9335-090434af0199",
   "metadata": {},
   "outputs": [
    {
     "data": {
      "text/plain": [
       "('open', 'VBP')"
      ]
     },
     "execution_count": 182,
     "metadata": {},
     "output_type": "execute_result"
    }
   ],
   "source": [
    "tree[0]"
   ]
  },
  {
   "cell_type": "code",
   "execution_count": null,
   "id": "499ad217-dccd-4191-be53-7b1730a479f6",
   "metadata": {},
   "outputs": [],
   "source": []
  },
  {
   "cell_type": "code",
   "execution_count": 304,
   "id": "9dce1e71-018f-42ff-a81a-a885cdf5b4e9",
   "metadata": {},
   "outputs": [
    {
     "name": "stdout",
     "output_type": "stream",
     "text": [
      "(S\n",
      "  (VP\n",
      "    (V sit)\n",
      "    (PP (P on) (NP (Det the) (AP (J big) (AP (J wooden) (N bed)))))))\n"
     ]
    }
   ],
   "source": [
    "grammar = nltk.CFG.fromstring(\"\"\"\n",
    "S -> VP\n",
    "VP -> V NP | V PP | V NP PP\n",
    "PP -> P NP\n",
    "NP -> Det N | Det AP | N PP | AP PP | NP PP\n",
    "AP -> J N | J AP\n",
    "Det -> 'the' | 'a' | 'an' | 'my'\n",
    "N -> 'bed' | 'door' | 'key' | 'handle'\n",
    "V -> 'sit' | 'open' | 'close' | 'unlock' | 'go'\n",
    "P -> 'on' | 'in' | 'with' | 'to'\n",
    "J -> 'big' | 'wooden'\n",
    "\"\"\")\n",
    "\n",
    "sent = ['sit', 'on', 'the', 'big', 'wooden', 'bed']\n",
    "#sent = ['open', 'the', 'wooden', 'door', 'with', 'the', 'handle']\n",
    "\n",
    "parser = nltk.ChartParser(grammar)\n",
    "\n",
    "for tree in parser.parse(sent):\n",
    "    print(tree)"
   ]
  },
  {
   "cell_type": "code",
   "execution_count": null,
   "id": "effe812f-f0be-4d92-9eb5-ead759730c0e",
   "metadata": {},
   "outputs": [],
   "source": []
  },
  {
   "cell_type": "code",
   "execution_count": 186,
   "id": "27767837-9618-4fc2-9b01-8d3ced1e7450",
   "metadata": {},
   "outputs": [
    {
     "data": {
      "text/plain": [
       "<Grammar with 14 productions>"
      ]
     },
     "execution_count": 186,
     "metadata": {},
     "output_type": "execute_result"
    }
   ],
   "source": [
    "from nltk import CFG\n",
    "\n",
    "grammar = CFG.fromstring(\"\"\"\n",
    "S -> NP VP\n",
    "PP -> P NP\n",
    "NP -> Det N | NP PP\n",
    "VP -> V NP | VP PP\n",
    "Det -> 'a' | 'the'\n",
    "N -> 'dog' | 'cat'\n",
    "V -> 'chased' | 'sat'\n",
    "P -> 'on' | 'in'\n",
    "\"\"\")\n",
    "\n",
    "grammar"
   ]
  },
  {
   "cell_type": "code",
   "execution_count": null,
   "id": "61a3ac15-6112-4a34-bb41-a6bb2071ecb5",
   "metadata": {},
   "outputs": [],
   "source": []
  },
  {
   "cell_type": "code",
   "execution_count": 360,
   "id": "b0b37e38-6719-44a1-bc79-1c6a100f61a1",
   "metadata": {},
   "outputs": [],
   "source": [
    "from parser import Parser"
   ]
  },
  {
   "cell_type": "code",
   "execution_count": 362,
   "id": "5b20aa3a-a3f2-4f4a-b127-d6220b997e7c",
   "metadata": {},
   "outputs": [
    {
     "ename": "NameError",
     "evalue": "name 'self' is not defined",
     "output_type": "error",
     "traceback": [
      "\u001b[0;31m---------------------------------------------------------------------------\u001b[0m",
      "\u001b[0;31mNameError\u001b[0m                                 Traceback (most recent call last)",
      "Cell \u001b[0;32mIn[362], line 8\u001b[0m\n\u001b[1;32m      1\u001b[0m language \u001b[38;5;241m=\u001b[39m {\n\u001b[1;32m      2\u001b[0m     \u001b[38;5;124m'\u001b[39m\u001b[38;5;124mN\u001b[39m\u001b[38;5;124m'\u001b[39m: [\u001b[38;5;124m'\u001b[39m\u001b[38;5;124mbed\u001b[39m\u001b[38;5;124m'\u001b[39m, \u001b[38;5;124m'\u001b[39m\u001b[38;5;124mdoor\u001b[39m\u001b[38;5;124m'\u001b[39m, \u001b[38;5;124m'\u001b[39m\u001b[38;5;124mkey\u001b[39m\u001b[38;5;124m'\u001b[39m, \u001b[38;5;124m'\u001b[39m\u001b[38;5;124mhandle\u001b[39m\u001b[38;5;124m'\u001b[39m, \u001b[38;5;124m'\u001b[39m\u001b[38;5;124mbox\u001b[39m\u001b[38;5;124m'\u001b[39m, \u001b[38;5;124m'\u001b[39m\u001b[38;5;124mwindow\u001b[39m\u001b[38;5;124m'\u001b[39m],\n\u001b[1;32m      3\u001b[0m     \u001b[38;5;124m'\u001b[39m\u001b[38;5;124mV\u001b[39m\u001b[38;5;124m'\u001b[39m: [\u001b[38;5;124m'\u001b[39m\u001b[38;5;124msit\u001b[39m\u001b[38;5;124m'\u001b[39m, \u001b[38;5;124m'\u001b[39m\u001b[38;5;124mopen\u001b[39m\u001b[38;5;124m'\u001b[39m, \u001b[38;5;124m'\u001b[39m\u001b[38;5;124mclose\u001b[39m\u001b[38;5;124m'\u001b[39m, \u001b[38;5;124m'\u001b[39m\u001b[38;5;124munlock\u001b[39m\u001b[38;5;124m'\u001b[39m, \u001b[38;5;124m'\u001b[39m\u001b[38;5;124mgo\u001b[39m\u001b[38;5;124m'\u001b[39m],\n\u001b[1;32m      4\u001b[0m     \u001b[38;5;124m'\u001b[39m\u001b[38;5;124mP\u001b[39m\u001b[38;5;124m'\u001b[39m: [\u001b[38;5;124m'\u001b[39m\u001b[38;5;124mon\u001b[39m\u001b[38;5;124m'\u001b[39m, \u001b[38;5;124m'\u001b[39m\u001b[38;5;124min\u001b[39m\u001b[38;5;124m'\u001b[39m, \u001b[38;5;124m'\u001b[39m\u001b[38;5;124mwith\u001b[39m\u001b[38;5;124m'\u001b[39m, \u001b[38;5;124m'\u001b[39m\u001b[38;5;124mto\u001b[39m\u001b[38;5;124m'\u001b[39m],\n\u001b[1;32m      5\u001b[0m     \u001b[38;5;124m'\u001b[39m\u001b[38;5;124mJ\u001b[39m\u001b[38;5;124m'\u001b[39m: [\u001b[38;5;124m'\u001b[39m\u001b[38;5;124msmall\u001b[39m\u001b[38;5;124m'\u001b[39m, \u001b[38;5;124m'\u001b[39m\u001b[38;5;124mbig\u001b[39m\u001b[38;5;124m'\u001b[39m, \u001b[38;5;124m'\u001b[39m\u001b[38;5;124mwooden\u001b[39m\u001b[38;5;124m'\u001b[39m, \u001b[38;5;124m'\u001b[39m\u001b[38;5;124mheavy\u001b[39m\u001b[38;5;124m'\u001b[39m, \u001b[38;5;124m'\u001b[39m\u001b[38;5;124mopen\u001b[39m\u001b[38;5;124m'\u001b[39m, \u001b[38;5;124m'\u001b[39m\u001b[38;5;124mclosed\u001b[39m\u001b[38;5;124m'\u001b[39m, \u001b[38;5;124m'\u001b[39m\u001b[38;5;124mround\u001b[39m\u001b[38;5;124m'\u001b[39m]\n\u001b[1;32m      6\u001b[0m }\n\u001b[0;32m----> 8\u001b[0m p \u001b[38;5;241m=\u001b[39m \u001b[43mParser\u001b[49m\u001b[43m(\u001b[49m\u001b[43mlanguage\u001b[49m\u001b[43m)\u001b[49m\n",
      "File \u001b[0;32m~/text-worlds/parser.py:23\u001b[0m, in \u001b[0;36mParser.__init__\u001b[0;34m(language, grammar_rules)\u001b[0m\n\u001b[1;32m     22\u001b[0m \u001b[38;5;28;01mdef\u001b[39;00m \u001b[38;5;21m__init__\u001b[39m(language, grammar_rules\u001b[38;5;241m=\u001b[39mgrammar_rules):\n\u001b[0;32m---> 23\u001b[0m     \u001b[38;5;28;43mself\u001b[39;49m\u001b[38;5;241m.\u001b[39mlanguage \u001b[38;5;241m=\u001b[39m language\n\u001b[1;32m     24\u001b[0m     \u001b[38;5;28mself\u001b[39m\u001b[38;5;241m.\u001b[39mgrammar_rules \u001b[38;5;241m=\u001b[39m grammar_rules\n\u001b[1;32m     25\u001b[0m     \u001b[38;5;28mself\u001b[39m\u001b[38;5;241m.\u001b[39mgrammar \u001b[38;5;241m=\u001b[39m \u001b[38;5;28mself\u001b[39m\u001b[38;5;241m.\u001b[39mbuild_grammar()\n",
      "\u001b[0;31mNameError\u001b[0m: name 'self' is not defined"
     ]
    }
   ],
   "source": []
  },
  {
   "cell_type": "code",
   "execution_count": null,
   "id": "df2c63dc-a0ab-4d74-9d8c-a598324f2997",
   "metadata": {},
   "outputs": [],
   "source": []
  }
 ],
 "metadata": {
  "kernelspec": {
   "display_name": "nltk",
   "language": "python",
   "name": "nltk"
  },
  "language_info": {
   "codemirror_mode": {
    "name": "ipython",
    "version": 3
   },
   "file_extension": ".py",
   "mimetype": "text/x-python",
   "name": "python",
   "nbconvert_exporter": "python",
   "pygments_lexer": "ipython3",
   "version": "3.11.3"
  }
 },
 "nbformat": 4,
 "nbformat_minor": 5
}
